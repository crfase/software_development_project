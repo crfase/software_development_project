{
 "cells": [
  {
   "cell_type": "markdown",
   "id": "13e9a3be",
   "metadata": {},
   "source": [
    "# Software Developement Tool Project\n",
    "\n",
    "The focus of this project is to provide additional practice with common software engineering tasks.\n",
    "\n",
    "Using data provided (`'vehicles_us.csv'`) regarding different vehicles for sale, both new and old, we will look\n",
    "at putting together a web app to filter through the data based on a variety of conditions."
   ]
  },
  {
   "cell_type": "code",
   "execution_count": 6,
   "id": "93aad696",
   "metadata": {},
   "outputs": [],
   "source": [
    "import streamlit as st\n",
    "import pandas as pd\n",
    "import plotly.express as px"
   ]
  },
  {
   "cell_type": "code",
   "execution_count": 7,
   "id": "6487202d",
   "metadata": {},
   "outputs": [],
   "source": [
    "df = pd.read_csv('vehicles_us.csv')"
   ]
  },
  {
   "cell_type": "code",
   "execution_count": 8,
   "id": "ccd1e54c",
   "metadata": {},
   "outputs": [
    {
     "name": "stdout",
     "output_type": "stream",
     "text": [
      "<class 'pandas.core.frame.DataFrame'>\n",
      "RangeIndex: 51525 entries, 0 to 51524\n",
      "Data columns (total 13 columns):\n",
      " #   Column        Non-Null Count  Dtype  \n",
      "---  ------        --------------  -----  \n",
      " 0   price         51525 non-null  int64  \n",
      " 1   model_year    47906 non-null  float64\n",
      " 2   model         51525 non-null  object \n",
      " 3   condition     51525 non-null  object \n",
      " 4   cylinders     46265 non-null  float64\n",
      " 5   fuel          51525 non-null  object \n",
      " 6   odometer      43633 non-null  float64\n",
      " 7   transmission  51525 non-null  object \n",
      " 8   type          51525 non-null  object \n",
      " 9   paint_color   42258 non-null  object \n",
      " 10  is_4wd        25572 non-null  float64\n",
      " 11  date_posted   51525 non-null  object \n",
      " 12  days_listed   51525 non-null  int64  \n",
      "dtypes: float64(4), int64(2), object(7)\n",
      "memory usage: 5.1+ MB\n"
     ]
    }
   ],
   "source": [
    "df.info()"
   ]
  },
  {
   "cell_type": "code",
   "execution_count": 13,
   "id": "460d2bae",
   "metadata": {},
   "outputs": [
    {
     "data": {
      "text/plain": [
       "array([2011. , 2013. , 2003. , 2017. , 2014. , 2015. , 2012. , 2008. ,\n",
       "       2018. , 2009. , 2010. , 2007. , 2004. , 2005. , 2001. , 2006. ,\n",
       "       1966. , 1994. , 2019. , 2000. , 2016. , 1993. , 1999. , 2006.5,\n",
       "       1997. , 2002. , 1981. , 1995. , 1996. , 1975. , 1998. , 1985. ,\n",
       "       1977. , 1987. , 1974. , 1990. , 1992. , 1991. , 1972. , 1967. ,\n",
       "       1988. , 1969. , 1989. , 1978. , 1965. , 1979. , 1968. , 1986. ,\n",
       "       1980. , 1964. , 1963. , 1984. , 1982. , 2010.5, 1973. , 1970. ,\n",
       "       1955. , 1971. , 1976. , 1983. , 1954. , 1962. , 1948. , 1960. ,\n",
       "       1908. , 1961. , 1936. , 1949. , 1958. , 1929. ])"
      ]
     },
     "execution_count": 13,
     "metadata": {},
     "output_type": "execute_result"
    }
   ],
   "source": [
    "df['model_year'] = df['model_year'].fillna(df.groupby('model')['model_year'].transform('median'))\n",
    "df['model_year'].unique()"
   ]
  },
  {
   "cell_type": "code",
   "execution_count": 15,
   "id": "730a61e1",
   "metadata": {},
   "outputs": [
    {
     "data": {
      "text/plain": [
       "array([ 6.,  4.,  8.,  5., 10.,  3., 12.])"
      ]
     },
     "execution_count": 15,
     "metadata": {},
     "output_type": "execute_result"
    }
   ],
   "source": [
    "df['cylinders'] = df['cylinders'].fillna(df.groupby('model')['cylinders'].transform('median'))\n",
    "df['cylinders'].unique()"
   ]
  },
  {
   "cell_type": "code",
   "execution_count": 18,
   "id": "55782d0c",
   "metadata": {},
   "outputs": [
    {
     "data": {
      "text/plain": [
       "array([145000.,  88705., 110000., ..., 121778., 181500., 139573.])"
      ]
     },
     "execution_count": 18,
     "metadata": {},
     "output_type": "execute_result"
    }
   ],
   "source": [
    "df['odometer'] = df['odometer'].fillna(df.groupby('model_year')['odometer'].transform('median'))\n",
    "df['odometer'].unique()"
   ]
  },
  {
   "cell_type": "code",
   "execution_count": 21,
   "id": "683e1073",
   "metadata": {},
   "outputs": [
    {
     "data": {
      "text/plain": [
       "array(['No Info', 'white', 'red', 'black', 'blue', 'grey', 'silver',\n",
       "       'custom', 'orange', 'yellow', 'brown', 'green', 'purple'],\n",
       "      dtype=object)"
      ]
     },
     "execution_count": 21,
     "metadata": {},
     "output_type": "execute_result"
    }
   ],
   "source": [
    "df['paint_color'] = df['paint_color'].fillna('No Info')\n",
    "df['paint_color'].unique()"
   ]
  },
  {
   "cell_type": "code",
   "execution_count": 22,
   "id": "0f5847e2",
   "metadata": {},
   "outputs": [
    {
     "data": {
      "text/plain": [
       "array([1., 0.])"
      ]
     },
     "execution_count": 22,
     "metadata": {},
     "output_type": "execute_result"
    }
   ],
   "source": [
    "df['is_4wd'] = df['is_4wd'].fillna(0)\n",
    "df['is_4wd'].unique()"
   ]
  },
  {
   "cell_type": "code",
   "execution_count": null,
   "id": "8ed37035",
   "metadata": {},
   "outputs": [],
   "source": [
    "#creating header with an option to filter the data and the checkbox:\n",
    "#let users decide whether they want to see new cars from dealers or not\n",
    "\n",
    "\n",
    "st.header('Market of used cars')\n",
    "st.write(\"\"\"\n",
    "Filter the data below to see the information by different vehicle types\n",
    "\"\"\")\n",
    "show_new_cars = st.checkbox('Include new cars from dealers')"
   ]
  },
  {
   "cell_type": "code",
   "execution_count": null,
   "id": "f8bf6953",
   "metadata": {},
   "outputs": [],
   "source": [
    "show_new_cars"
   ]
  },
  {
   "cell_type": "code",
   "execution_count": null,
   "id": "6f658854",
   "metadata": {},
   "outputs": [],
   "source": [
    "if not show_new_cars:\n",
    "    df = df[df.condition != 'new']"
   ]
  },
  {
   "cell_type": "code",
   "execution_count": null,
   "id": "c770cf3f",
   "metadata": {},
   "outputs": [],
   "source": [
    "#creating options for filter from all vehicle types and different years\n",
    "type_choice = df['type'].unique()\n",
    "make_type_choice = st.selectbox('Select vehicle type:', type_choice)"
   ]
  },
  {
   "cell_type": "code",
   "execution_count": null,
   "id": "791169c1",
   "metadata": {},
   "outputs": [],
   "source": [
    "make_type_choice"
   ]
  },
  {
   "cell_type": "code",
   "execution_count": null,
   "id": "6d25edc3",
   "metadata": {},
   "outputs": [],
   "source": [
    "#next let's create a slider for years, so that users can filter cars by years of production\n",
    "#creating min and max years as limits for sliders\n",
    "min_year, max_year = int(df['model_year'].min()), int(df['model_year'].max())\n",
    "\n",
    "year_range = st.slider(\n",
    "    \"Choose years\",\n",
    "    value = (min_year, max_year), min_value = min_year, max_value = max_year)"
   ]
  },
  {
   "cell_type": "code",
   "execution_count": null,
   "id": "7a3f7dae",
   "metadata": {},
   "outputs": [],
   "source": [
    "year_range"
   ]
  },
  {
   "cell_type": "code",
   "execution_count": null,
   "id": "7a2178c9",
   "metadata": {},
   "outputs": [],
   "source": [
    "#creating actual range based on slider that will be used to filter in the dataset\n",
    "actual_range = list(range(year_range[0], year_range[1]+1))"
   ]
  },
  {
   "cell_type": "code",
   "execution_count": null,
   "id": "6ce58334",
   "metadata": {},
   "outputs": [],
   "source": [
    "#filtering dataset on chosen vehicle type and chosen year range\n",
    "filtered_type = df[(df.type == make_type_choice) & (df.model_year.isin(list(actual_range)))]\n",
    "\n",
    "#showing the final table in streamlit\n",
    "st.dataframe(filtered_type)"
   ]
  },
  {
   "cell_type": "code",
   "execution_count": null,
   "id": "d803ba8a",
   "metadata": {},
   "outputs": [],
   "source": [
    "filtered_type"
   ]
  },
  {
   "cell_type": "code",
   "execution_count": null,
   "id": "9dfc1f95",
   "metadata": {},
   "outputs": [],
   "source": [
    "st.header(\"Price analysis\")\n",
    "st.write(\"\"\"\n",
    "Let's analyze what influences price the most. We will check how distribution of price varies depending on\n",
    "transmission, cylinders, body type and condition\n",
    "\"\"\")\n",
    "\n",
    "#will create histograms with the split by paramater of choice: paint color, transmission, type, and condition\n",
    "\n",
    "#creating list of options to choose from\n",
    "list_for_hist = ['transmission', 'cylinders', 'type', 'condition']\n",
    "\n",
    "#creating selectbox\n",
    "choice_for_hist = st.selectbox('Split for price distribution', list_for_hist)\n",
    "\n",
    "#plotly histogram, where price is split by the choice mode in the select box\n",
    "fig1 = px.histogram(df, x = 'price', color = choice_for_hist)\n",
    "\n",
    "#adding title\n",
    "fig1.update_layout(title = \"<b> Split of price by ()</b>\".format(choice_for_hist))\n",
    "\n",
    "#embedding into streamlit\n",
    "st.plotly_chart(fig1)"
   ]
  },
  {
   "cell_type": "code",
   "execution_count": null,
   "id": "fe0e4b16",
   "metadata": {},
   "outputs": [],
   "source": [
    "fig1.show()"
   ]
  },
  {
   "cell_type": "code",
   "execution_count": null,
   "id": "7eb13123",
   "metadata": {},
   "outputs": [],
   "source": [
    "# creating age category of cars, because we want to take it into account when analyzing the price\n",
    "df['age'] = 2023 - df['model_year']\n",
    "\n",
    "def age_category(x):\n",
    "    if x < 5:\n",
    "        return '<5'\n",
    "    elif x >= 5 and x < 10:\n",
    "        return '5-10'\n",
    "    elif x >= 10 and x < 20:\n",
    "        return '10-20'\n",
    "    elif x >= 20:\n",
    "        return '20+'\n",
    "    else:\n",
    "        return 'unknown'\n",
    "    \n",
    "df['age_category'] = df['age'].apply(age_category)"
   ]
  },
  {
   "cell_type": "code",
   "execution_count": null,
   "id": "1513d254",
   "metadata": {},
   "outputs": [],
   "source": [
    "df['age_category']"
   ]
  },
  {
   "cell_type": "code",
   "execution_count": null,
   "id": "3eb1ba76",
   "metadata": {},
   "outputs": [],
   "source": [
    "st.write(\"\"\"\n",
    "Now let's check how price is affected by odometer, number of cylinders, or days listed\n",
    "\"\"\")\n",
    "\n",
    "#distribution of price depending on odometer, cylinders, days_listed with the split by age category\n",
    "\n",
    "list_for_scatter = ['odometer', 'cylinders', 'days_listed']\n",
    "choice_for_scatter = st.selectbox('Price dependency on ', list_for_scatter)\n",
    "fig2 = px.scatter(df, x = 'price', y = choice_for_scatter, hover_data = ['model_year'])\n",
    "\n",
    "fig2.update_layout(\n",
    "title = '<b> Price vs {}<b>'.format(choice_for_scatter))\n",
    "st.plotly_chart(fig2)"
   ]
  },
  {
   "cell_type": "code",
   "execution_count": null,
   "id": "91993281",
   "metadata": {},
   "outputs": [],
   "source": [
    "fig2"
   ]
  },
  {
   "cell_type": "markdown",
   "id": "8cd2b833",
   "metadata": {},
   "source": [
    "# Conclusion\n",
    "\n",
    "After taking care of the missing values within the dataset, we have a code to build a web app to narrow your search by filtering the data by age of the vehicle, and model type. This also allows you to see the way the price is reflected by different factors, including transmission, odometer, number of cylinders and the number of days listed."
   ]
  }
 ],
 "metadata": {
  "kernelspec": {
   "display_name": "Python 3 (ipykernel)",
   "language": "python",
   "name": "python3"
  },
  "language_info": {
   "codemirror_mode": {
    "name": "ipython",
    "version": 3
   },
   "file_extension": ".py",
   "mimetype": "text/x-python",
   "name": "python",
   "nbconvert_exporter": "python",
   "pygments_lexer": "ipython3",
   "version": "3.10.9"
  }
 },
 "nbformat": 4,
 "nbformat_minor": 5
}
